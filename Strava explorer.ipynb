{
 "cells": [
  {
   "cell_type": "code",
   "execution_count": null,
   "metadata": {},
   "outputs": [],
   "source": [
    "import csv\n",
    "import gzip\n",
    "from fitparse import FitFile\n",
    "\n",
    "def fit_gz_to_csv(fit_gz_file_path, csv_file_path):\n",
    "    # Decompress the .fit.gz file and parse it\n",
    "    with gzip.open(fit_gz_file_path, 'rb') as f:\n",
    "        fitfile = FitFile(f)\n",
    "\n",
    "        # Open or create the CSV file\n",
    "        with open(csv_file_path, mode='w', newline='') as file:\n",
    "            writer = csv.writer(file)\n",
    "            headers_written = False\n",
    "\n",
    "            # Iterate over all messages of type 'record'\n",
    "            # (other types include 'device_info', 'activity', etc)\n",
    "            for record in fitfile.get_messages('record'):\n",
    "\n",
    "                # Get all data values from the record\n",
    "                data = record.get_values()\n",
    "\n",
    "                # Write the headers once\n",
    "                if not headers_written:\n",
    "                    writer.writerow(data.keys())\n",
    "                    headers_written = True\n",
    "\n",
    "                # Write the data values\n",
    "                writer.writerow(data.values())\n",
    "\n",
    "# Example usage\n",
    "fit_gz_to_csv('path/to/input.fit.gz', 'path/to/output.csv')\n"
   ]
  }
 ],
 "metadata": {
  "language_info": {
   "name": "python"
  }
 },
 "nbformat": 4,
 "nbformat_minor": 2
}
