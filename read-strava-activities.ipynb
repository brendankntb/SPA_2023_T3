{
 "cells": [
  {
   "cell_type": "code",
   "execution_count": 3,
   "metadata": {},
   "outputs": [
    {
     "ename": "FileNotFoundError",
     "evalue": "[Errno 2] No such file or directory: 'data/activities.json'",
     "output_type": "error",
     "traceback": [
      "\u001b[0;31m---------------------------------------------------------------------------\u001b[0m",
      "\u001b[0;31mFileNotFoundError\u001b[0m                         Traceback (most recent call last)",
      "\u001b[1;32m/Users/brendan/Documents/GitHub/Deakin/SPA_2023_T3/data/read-strava-activities.ipynb Cell 1\u001b[0m line \u001b[0;36m2\n\u001b[1;32m     <a href='vscode-notebook-cell:/Users/brendan/Documents/GitHub/Deakin/SPA_2023_T3/data/read-strava-activities.ipynb#W1sZmlsZQ%3D%3D?line=21'>22</a>\u001b[0m     \u001b[39mreturn\u001b[39;00m extracted_data\n\u001b[1;32m     <a href='vscode-notebook-cell:/Users/brendan/Documents/GitHub/Deakin/SPA_2023_T3/data/read-strava-activities.ipynb#W1sZmlsZQ%3D%3D?line=23'>24</a>\u001b[0m \u001b[39m# Extract the data\u001b[39;00m\n\u001b[0;32m---> <a href='vscode-notebook-cell:/Users/brendan/Documents/GitHub/Deakin/SPA_2023_T3/data/read-strava-activities.ipynb#W1sZmlsZQ%3D%3D?line=24'>25</a>\u001b[0m dataset \u001b[39m=\u001b[39m extract_fields_from_json(file_path)\n\u001b[1;32m     <a href='vscode-notebook-cell:/Users/brendan/Documents/GitHub/Deakin/SPA_2023_T3/data/read-strava-activities.ipynb#W1sZmlsZQ%3D%3D?line=26'>27</a>\u001b[0m \u001b[39m# Displaying a sample of the extracted dataset\u001b[39;00m\n\u001b[1;32m     <a href='vscode-notebook-cell:/Users/brendan/Documents/GitHub/Deakin/SPA_2023_T3/data/read-strava-activities.ipynb#W1sZmlsZQ%3D%3D?line=27'>28</a>\u001b[0m sample_dataset \u001b[39m=\u001b[39m dataset[:\u001b[39m5\u001b[39m]  \u001b[39m# Display the first 5 entries for examination\u001b[39;00m\n",
      "\u001b[1;32m/Users/brendan/Documents/GitHub/Deakin/SPA_2023_T3/data/read-strava-activities.ipynb Cell 1\u001b[0m line \u001b[0;36m8\n\u001b[1;32m      <a href='vscode-notebook-cell:/Users/brendan/Documents/GitHub/Deakin/SPA_2023_T3/data/read-strava-activities.ipynb#W1sZmlsZQ%3D%3D?line=6'>7</a>\u001b[0m \u001b[39mdef\u001b[39;00m \u001b[39mextract_fields_from_json\u001b[39m(file_path):\n\u001b[0;32m----> <a href='vscode-notebook-cell:/Users/brendan/Documents/GitHub/Deakin/SPA_2023_T3/data/read-strava-activities.ipynb#W1sZmlsZQ%3D%3D?line=7'>8</a>\u001b[0m     \u001b[39mwith\u001b[39;00m \u001b[39mopen\u001b[39;49m(file_path, \u001b[39m'\u001b[39;49m\u001b[39mr\u001b[39;49m\u001b[39m'\u001b[39;49m) \u001b[39mas\u001b[39;00m file:\n\u001b[1;32m      <a href='vscode-notebook-cell:/Users/brendan/Documents/GitHub/Deakin/SPA_2023_T3/data/read-strava-activities.ipynb#W1sZmlsZQ%3D%3D?line=8'>9</a>\u001b[0m         data \u001b[39m=\u001b[39m json\u001b[39m.\u001b[39mload(file)\n\u001b[1;32m     <a href='vscode-notebook-cell:/Users/brendan/Documents/GitHub/Deakin/SPA_2023_T3/data/read-strava-activities.ipynb#W1sZmlsZQ%3D%3D?line=10'>11</a>\u001b[0m     \u001b[39m# Extracting all unique field names\u001b[39;00m\n",
      "File \u001b[0;32m/opt/homebrew/Caskroom/miniforge/base/envs/py39tf/lib/python3.9/site-packages/IPython/core/interactiveshell.py:282\u001b[0m, in \u001b[0;36m_modified_open\u001b[0;34m(file, *args, **kwargs)\u001b[0m\n\u001b[1;32m    275\u001b[0m \u001b[39mif\u001b[39;00m file \u001b[39min\u001b[39;00m {\u001b[39m0\u001b[39m, \u001b[39m1\u001b[39m, \u001b[39m2\u001b[39m}:\n\u001b[1;32m    276\u001b[0m     \u001b[39mraise\u001b[39;00m \u001b[39mValueError\u001b[39;00m(\n\u001b[1;32m    277\u001b[0m         \u001b[39mf\u001b[39m\u001b[39m\"\u001b[39m\u001b[39mIPython won\u001b[39m\u001b[39m'\u001b[39m\u001b[39mt let you open fd=\u001b[39m\u001b[39m{\u001b[39;00mfile\u001b[39m}\u001b[39;00m\u001b[39m by default \u001b[39m\u001b[39m\"\u001b[39m\n\u001b[1;32m    278\u001b[0m         \u001b[39m\"\u001b[39m\u001b[39mas it is likely to crash IPython. If you know what you are doing, \u001b[39m\u001b[39m\"\u001b[39m\n\u001b[1;32m    279\u001b[0m         \u001b[39m\"\u001b[39m\u001b[39myou can use builtins\u001b[39m\u001b[39m'\u001b[39m\u001b[39m open.\u001b[39m\u001b[39m\"\u001b[39m\n\u001b[1;32m    280\u001b[0m     )\n\u001b[0;32m--> 282\u001b[0m \u001b[39mreturn\u001b[39;00m io_open(file, \u001b[39m*\u001b[39;49margs, \u001b[39m*\u001b[39;49m\u001b[39m*\u001b[39;49mkwargs)\n",
      "\u001b[0;31mFileNotFoundError\u001b[0m: [Errno 2] No such file or directory: 'data/activities.json'"
     ]
    }
   ],
   "source": [
    "import json\n",
    "\n",
    "# Path to the JSON file\n",
    "file_path = 'data/activities.json'\n",
    "\n",
    "# Function to extract all fields from the dataset\n",
    "def extract_fields_from_json(file_path):\n",
    "    with open(file_path, 'r') as file:\n",
    "        data = json.load(file)\n",
    "    \n",
    "    # Extracting all unique field names\n",
    "    all_fields = set()\n",
    "    for entry in data:\n",
    "        all_fields.update(entry.keys())\n",
    "    \n",
    "    # Extracting all field values\n",
    "    extracted_data = []\n",
    "    for entry in data:\n",
    "        record = {field: entry.get(field, None) for field in all_fields}\n",
    "        extracted_data.append(record)\n",
    "\n",
    "    return extracted_data\n",
    "\n",
    "# Extract the data\n",
    "dataset = extract_fields_from_json(file_path)\n",
    "\n",
    "# Displaying a sample of the extracted dataset\n",
    "sample_dataset = dataset[:5]  # Display the first 5 entries for examination\n",
    "sample_dataset\n"
   ]
  }
 ],
 "metadata": {
  "kernelspec": {
   "display_name": "py39tf",
   "language": "python",
   "name": "python3"
  },
  "language_info": {
   "codemirror_mode": {
    "name": "ipython",
    "version": 3
   },
   "file_extension": ".py",
   "mimetype": "text/x-python",
   "name": "python",
   "nbconvert_exporter": "python",
   "pygments_lexer": "ipython3",
   "version": "3.9.16"
  }
 },
 "nbformat": 4,
 "nbformat_minor": 2
}
