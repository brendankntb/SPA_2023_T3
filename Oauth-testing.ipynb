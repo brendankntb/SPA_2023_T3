{
 "cells": [
  {
   "cell_type": "code",
   "execution_count": 1,
   "metadata": {},
   "outputs": [
    {
     "ename": "MissingTokenError",
     "evalue": "(missing_token) Missing access token parameter.",
     "output_type": "error",
     "traceback": [
      "\u001b[0;31m---------------------------------------------------------------------------\u001b[0m",
      "\u001b[0;31mMissingTokenError\u001b[0m                         Traceback (most recent call last)",
      "\u001b[1;32mUntitled-3.ipynb Cell 1\u001b[0m line \u001b[0;36m1\n\u001b[1;32m     <a href='vscode-notebook-cell:Untitled-3.ipynb?jupyter-notebook#W0sdW50aXRsZWQ%3D?line=9'>10</a>\u001b[0m oauth \u001b[39m=\u001b[39m OAuth2Session(client\u001b[39m=\u001b[39mclient)\n\u001b[1;32m     <a href='vscode-notebook-cell:Untitled-3.ipynb?jupyter-notebook#W0sdW50aXRsZWQ%3D?line=11'>12</a>\u001b[0m \u001b[39m# Fetch an access token\u001b[39;00m\n\u001b[0;32m---> <a href='vscode-notebook-cell:Untitled-3.ipynb?jupyter-notebook#W0sdW50aXRsZWQ%3D?line=12'>13</a>\u001b[0m response \u001b[39m=\u001b[39m oauth\u001b[39m.\u001b[39;49mfetch_token(token_url\u001b[39m=\u001b[39;49m\u001b[39m'\u001b[39;49m\u001b[39mhttps://www.strava.com/oauth/token\u001b[39;49m\u001b[39m'\u001b[39;49m,\n\u001b[1;32m     <a href='vscode-notebook-cell:Untitled-3.ipynb?jupyter-notebook#W0sdW50aXRsZWQ%3D?line=13'>14</a>\u001b[0m                              client_id\u001b[39m=\u001b[39;49mclient_id,\n\u001b[1;32m     <a href='vscode-notebook-cell:Untitled-3.ipynb?jupyter-notebook#W0sdW50aXRsZWQ%3D?line=14'>15</a>\u001b[0m                              client_secret\u001b[39m=\u001b[39;49mclient_secret,\n\u001b[1;32m     <a href='vscode-notebook-cell:Untitled-3.ipynb?jupyter-notebook#W0sdW50aXRsZWQ%3D?line=15'>16</a>\u001b[0m                              include_client_id\u001b[39m=\u001b[39;49m\u001b[39mTrue\u001b[39;49;00m)  \u001b[39m# Some APIs require this\u001b[39;00m\n\u001b[1;32m     <a href='vscode-notebook-cell:Untitled-3.ipynb?jupyter-notebook#W0sdW50aXRsZWQ%3D?line=16'>17</a>\u001b[0m \u001b[39mprint\u001b[39m(response)\n",
      "File \u001b[0;32m/opt/homebrew/Caskroom/miniforge/base/envs/py39tf/lib/python3.9/site-packages/requests_oauthlib/oauth2_session.py:366\u001b[0m, in \u001b[0;36mOAuth2Session.fetch_token\u001b[0;34m(self, token_url, code, authorization_response, body, auth, username, password, method, force_querystring, timeout, headers, verify, proxies, include_client_id, client_secret, cert, **kwargs)\u001b[0m\n\u001b[1;32m    363\u001b[0m     log\u001b[39m.\u001b[39mdebug(\u001b[39m\"\u001b[39m\u001b[39mInvoking hook \u001b[39m\u001b[39m%s\u001b[39;00m\u001b[39m.\u001b[39m\u001b[39m\"\u001b[39m, hook)\n\u001b[1;32m    364\u001b[0m     r \u001b[39m=\u001b[39m hook(r)\n\u001b[0;32m--> 366\u001b[0m \u001b[39mself\u001b[39;49m\u001b[39m.\u001b[39;49m_client\u001b[39m.\u001b[39;49mparse_request_body_response(r\u001b[39m.\u001b[39;49mtext, scope\u001b[39m=\u001b[39;49m\u001b[39mself\u001b[39;49m\u001b[39m.\u001b[39;49mscope)\n\u001b[1;32m    367\u001b[0m \u001b[39mself\u001b[39m\u001b[39m.\u001b[39mtoken \u001b[39m=\u001b[39m \u001b[39mself\u001b[39m\u001b[39m.\u001b[39m_client\u001b[39m.\u001b[39mtoken\n\u001b[1;32m    368\u001b[0m log\u001b[39m.\u001b[39mdebug(\u001b[39m\"\u001b[39m\u001b[39mObtained token \u001b[39m\u001b[39m%s\u001b[39;00m\u001b[39m.\u001b[39m\u001b[39m\"\u001b[39m, \u001b[39mself\u001b[39m\u001b[39m.\u001b[39mtoken)\n",
      "File \u001b[0;32m/opt/homebrew/Caskroom/miniforge/base/envs/py39tf/lib/python3.9/site-packages/oauthlib/oauth2/rfc6749/clients/base.py:427\u001b[0m, in \u001b[0;36mClient.parse_request_body_response\u001b[0;34m(self, body, scope, **kwargs)\u001b[0m\n\u001b[1;32m    379\u001b[0m \u001b[39m\u001b[39m\u001b[39m\"\"\"Parse the JSON response body.\u001b[39;00m\n\u001b[1;32m    380\u001b[0m \n\u001b[1;32m    381\u001b[0m \u001b[39mIf the access token request is valid and authorized, the\u001b[39;00m\n\u001b[0;32m   (...)\u001b[0m\n\u001b[1;32m    424\u001b[0m \u001b[39m.. _`Section 7.1`: https://tools.ietf.org/html/rfc6749#section-7.1\u001b[39;00m\n\u001b[1;32m    425\u001b[0m \u001b[39m\"\"\"\u001b[39;00m\n\u001b[1;32m    426\u001b[0m scope \u001b[39m=\u001b[39m \u001b[39mself\u001b[39m\u001b[39m.\u001b[39mscope \u001b[39mif\u001b[39;00m scope \u001b[39mis\u001b[39;00m \u001b[39mNone\u001b[39;00m \u001b[39melse\u001b[39;00m scope\n\u001b[0;32m--> 427\u001b[0m \u001b[39mself\u001b[39m\u001b[39m.\u001b[39mtoken \u001b[39m=\u001b[39m parse_token_response(body, scope\u001b[39m=\u001b[39;49mscope)\n\u001b[1;32m    428\u001b[0m \u001b[39mself\u001b[39m\u001b[39m.\u001b[39mpopulate_token_attributes(\u001b[39mself\u001b[39m\u001b[39m.\u001b[39mtoken)\n\u001b[1;32m    429\u001b[0m \u001b[39mreturn\u001b[39;00m \u001b[39mself\u001b[39m\u001b[39m.\u001b[39mtoken\n",
      "File \u001b[0;32m/opt/homebrew/Caskroom/miniforge/base/envs/py39tf/lib/python3.9/site-packages/oauthlib/oauth2/rfc6749/parameters.py:441\u001b[0m, in \u001b[0;36mparse_token_response\u001b[0;34m(body, scope)\u001b[0m\n\u001b[1;32m    438\u001b[0m         params[\u001b[39m'\u001b[39m\u001b[39mexpires_at\u001b[39m\u001b[39m'\u001b[39m] \u001b[39m=\u001b[39m time\u001b[39m.\u001b[39mtime() \u001b[39m+\u001b[39m \u001b[39mint\u001b[39m(params[\u001b[39m'\u001b[39m\u001b[39mexpires_in\u001b[39m\u001b[39m'\u001b[39m])\n\u001b[1;32m    440\u001b[0m params \u001b[39m=\u001b[39m OAuth2Token(params, old_scope\u001b[39m=\u001b[39mscope)\n\u001b[0;32m--> 441\u001b[0m validate_token_parameters(params)\n\u001b[1;32m    442\u001b[0m \u001b[39mreturn\u001b[39;00m params\n",
      "File \u001b[0;32m/opt/homebrew/Caskroom/miniforge/base/envs/py39tf/lib/python3.9/site-packages/oauthlib/oauth2/rfc6749/parameters.py:451\u001b[0m, in \u001b[0;36mvalidate_token_parameters\u001b[0;34m(params)\u001b[0m\n\u001b[1;32m    448\u001b[0m     raise_from_error(params\u001b[39m.\u001b[39mget(\u001b[39m'\u001b[39m\u001b[39merror\u001b[39m\u001b[39m'\u001b[39m), params)\n\u001b[1;32m    450\u001b[0m \u001b[39mif\u001b[39;00m \u001b[39mnot\u001b[39;00m \u001b[39m'\u001b[39m\u001b[39maccess_token\u001b[39m\u001b[39m'\u001b[39m \u001b[39min\u001b[39;00m params:\n\u001b[0;32m--> 451\u001b[0m     \u001b[39mraise\u001b[39;00m MissingTokenError(description\u001b[39m=\u001b[39m\u001b[39m\"\u001b[39m\u001b[39mMissing access token parameter.\u001b[39m\u001b[39m\"\u001b[39m)\n\u001b[1;32m    453\u001b[0m \u001b[39mif\u001b[39;00m \u001b[39mnot\u001b[39;00m \u001b[39m'\u001b[39m\u001b[39mtoken_type\u001b[39m\u001b[39m'\u001b[39m \u001b[39min\u001b[39;00m params:\n\u001b[1;32m    454\u001b[0m     \u001b[39mif\u001b[39;00m os\u001b[39m.\u001b[39menviron\u001b[39m.\u001b[39mget(\u001b[39m'\u001b[39m\u001b[39mOAUTHLIB_STRICT_TOKEN_TYPE\u001b[39m\u001b[39m'\u001b[39m):\n",
      "\u001b[0;31mMissingTokenError\u001b[0m: (missing_token) Missing access token parameter."
     ]
    }
   ],
   "source": [
    "from requests_oauthlib import OAuth2Session\n",
    "from oauthlib.oauth2 import BackendApplicationClient\n",
    "import config\n",
    "\n",
    "client_id = config.client_id\n",
    "client_secret = config.client_secret\n",
    "\n",
    "# Create a session\n",
    "client = BackendApplicationClient(client_id=client_id)\n",
    "oauth = OAuth2Session(client=client)\n",
    "\n",
    "# Fetch an access token\n",
    "response = oauth.fetch_token(token_url='https://www.strava.com/oauth/token',\n",
    "                             client_id=client_id,\n",
    "                             client_secret=client_secret,\n",
    "                             include_client_id=True)  # Some APIs require this\n",
    "print(response)\n",
    "\n",
    "\n",
    "\n"
   ]
  },
  {
   "cell_type": "code",
   "execution_count": null,
   "metadata": {},
   "outputs": [],
   "source": [
    "# Use the token to make authenticated requests\n",
    "response = oauth.get('https://www.strava.com/api/v3/athlete')\n",
    "\n",
    "# Print the response\n",
    "print(response.json())"
   ]
  },
  {
   "cell_type": "code",
   "execution_count": 1,
   "metadata": {},
   "outputs": [
    {
     "name": "stdout",
     "output_type": "stream",
     "text": [
      "Please go here and authorize: https://www.strava.com/oauth/authorize?response_type=code&client_id=117269&redirect_uri=deakin.edu.au&state=xpYyQ7mlcDDM9PcMknI6lDjuHYxN2S\n"
     ]
    }
   ],
   "source": [
    "from requests_oauthlib import OAuth2Session\n",
    "\n",
    "client_id = config.client_id\n",
    "client_secret = config.client_secret\n",
    "redirect_uri = config.redirect_uri\n",
    "\n",
    "# Step 1: Redirect the user\n",
    "oauth = OAuth2Session(client_id, redirect_uri=redirect_uri)\n",
    "authorization_url, state = oauth.authorization_url('https://www.strava.com/oauth/authorize')\n",
    "\n",
    "print(f'Please go here and authorize: {authorization_url}')\n",
    "\n",
    "# Step 2 & 3: Get the authorization code from the callback URL\n",
    "# In a web application, you would handle this with a route\n",
    "# For simplicity, let's assume you manually input the code\n",
    "code = input('Enter the authorization code: ')\n",
    "\n",
    "# Step 4: Exchange the authorization code for an access token\n",
    "token = oauth.fetch_token('https://www.strava.com/oauth/token',\n",
    "                          authorization_response='YOUR_FULL_REDIRECT_URI_WITH_CODE',\n",
    "                          client_secret=client_secret)\n",
    "\n",
    "print(token)\n"
   ]
  }
 ],
 "metadata": {
  "kernelspec": {
   "display_name": "py39tf",
   "language": "python",
   "name": "python3"
  },
  "language_info": {
   "codemirror_mode": {
    "name": "ipython",
    "version": 3
   },
   "file_extension": ".py",
   "mimetype": "text/x-python",
   "name": "python",
   "nbconvert_exporter": "python",
   "pygments_lexer": "ipython3",
   "version": "3.9.16"
  }
 },
 "nbformat": 4,
 "nbformat_minor": 2
}
