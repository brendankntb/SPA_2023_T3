{
 "cells": [
  {
   "cell_type": "code",
   "execution_count": null,
   "metadata": {},
   "outputs": [],
   "source": [
    "from requests_oauthlib import OAuth2Session\n",
    "from oauthlib.oauth2 import BackendApplicationClient\n",
    "import config\n",
    "\n",
    "client_id = config.client_id\n",
    "client_secret = config.client_secret\n",
    "\n",
    "# Create a session\n",
    "client = BackendApplicationClient(client_id=client_id)\n",
    "oauth = OAuth2Session(client=client)\n",
    "\n",
    "# Fetch an access token\n",
    "response = oauth.fetch_token(token_url='https://www.strava.com/oauth/token',\n",
    "                             client_id=client_id,\n",
    "                             client_secret=client_secret,\n",
    "                             include_client_id=True)  # Some APIs require this\n",
    "print(response)"
   ]
  },
  {
   "cell_type": "code",
   "execution_count": null,
   "metadata": {},
   "outputs": [],
   "source": [
    "# Use the token to make authenticated requests\n",
    "response = oauth.get('https://www.strava.com/api/v3/athlete')\n",
    "\n",
    "# Print the response\n",
    "print(response.json())"
   ]
  },
  {
   "cell_type": "code",
   "execution_count": 1,
   "metadata": {},
   "outputs": [
    {
     "name": "stdout",
     "output_type": "stream",
     "text": [
      "Please go here and authorize: https://www.strava.com/oauth/authorize?response_type=code&client_id=117269&redirect_uri=deakin.edu.au&state=xpYyQ7mlcDDM9PcMknI6lDjuHYxN2S\n"
     ]
    }
   ],
   "source": [
    "from requests_oauthlib import OAuth2Session\n",
    "\n",
    "client_id = config.client_id\n",
    "client_secret = config.client_secret\n",
    "redirect_uri = config.redirect_uri\n",
    "\n",
    "# Step 1: Redirect the user\n",
    "oauth = OAuth2Session(client_id, redirect_uri=redirect_uri)\n",
    "authorization_url, state = oauth.authorization_url('https://www.strava.com/oauth/authorize')\n",
    "\n",
    "print(f'Please go here and authorize: {authorization_url}')\n",
    "\n",
    "# Step 2 & 3: Get the authorization code from the callback URL\n",
    "# In a web application, you would handle this with a route\n",
    "# For simplicity, let's assume you manually input the code\n",
    "code = input('Enter the authorization code: ')\n",
    "\n",
    "# Step 4: Exchange the authorization code for an access token\n",
    "token = oauth.fetch_token('https://www.strava.com/oauth/token',\n",
    "                          authorization_response='YOUR_FULL_REDIRECT_URI_WITH_CODE',\n",
    "                          client_secret=client_secret)\n",
    "\n",
    "print(token)"
   ]
  },
  {
   "cell_type": "code",
   "execution_count": null,
   "metadata": {},
   "outputs": [],
   "source": [
    "from requests_oauthlib import OAuth2Session\n",
    "from oauthlib.oauth2 import BackendApplicationClient\n",
    "import config\n",
    "\n",
    "# Replace these with your client ID and client secret obtained from Strava\n",
    "client_id = config.client_id\n",
    "client_secret = config.client_secret\n",
    "\n",
    "# OAuth endpoints given in the Strava API documentation\n",
    "authorization_base_url = 'https://www.strava.com/oauth/authorize'\n",
    "token_url = 'https://www.strava.com/oauth/token'\n",
    "redirect_uri = 'http://localhost:5000/callback'  # This must match the redirect URI in your Strava settings\n",
    "\n",
    "# Using backend application flow\n",
    "client = BackendApplicationClient(client_id=client_id)\n",
    "oauth = OAuth2Session(client=client)\n",
    "\n",
    "# Fetch an access token\n",
    "token = oauth.fetch_token(token_url=token_url, client_id=client_id, client_secret=client_secret)\n",
    "\n",
    "# Use the token to access the API\n",
    "api_url = 'https://www.strava.com/api/v3/athlete/activities'\n",
    "response = oauth.get(api_url)\n",
    "\n",
    "print(response.json())"
   ]
  }
 ],
 "metadata": {
  "kernelspec": {
   "display_name": "Python 3 (ipykernel)",
   "language": "python",
   "name": "python3"
  },
  "language_info": {
   "codemirror_mode": {
    "name": "ipython",
    "version": 3
   },
   "file_extension": ".py",
   "mimetype": "text/x-python",
   "name": "python",
   "nbconvert_exporter": "python",
   "pygments_lexer": "ipython3",
   "version": "3.9.16"
  }
 },
 "nbformat": 4,
 "nbformat_minor": 2
}
