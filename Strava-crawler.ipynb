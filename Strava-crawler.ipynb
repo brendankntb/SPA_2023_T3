{
 "cells": [
  {
   "cell_type": "code",
   "execution_count": null,
   "metadata": {},
   "outputs": [],
   "source": [
    "from selenium import webdriver\n",
    "from selenium.webdriver.common.by import By\n",
    "from selenium.webdriver.support.ui import WebDriverWait\n",
    "from selenium.webdriver.support import expected_conditions as EC\n",
    "import config\n",
    "\n",
    "# Constants\n",
    "STRAVA_LOGIN_URL = \"https://www.strava.com/login\"\n",
    "STRAVA_TRAINING_URL = \"https://www.strava.com/athlete/training\"\n",
    "USERNAME = config.USERNAME\n",
    "PASSWORD = config.PASSWORD\n",
    "MAX_RIDES = 10\n",
    "\n",
    "# Initialize the WebDriver\n",
    "driver = webdriver.Chrome(executable_path=\"path_to_chromedriver\")  # Update the path\n",
    "\n",
    "# Function to log in to Strava\n",
    "def strava_login():\n",
    "    driver.get(STRAVA_LOGIN_URL)\n",
    "    WebDriverWait(driver, 10).until(EC.presence_of_element_located((By.ID, \"email\")))\n",
    "    driver.find_element(By.ID, \"email\").send_keys(USERNAME)\n",
    "    driver.find_element(By.ID, \"password\").send_keys(PASSWORD)\n",
    "    driver.find_element(By.ID, \"login-button\").click()\n",
    "\n",
    "# Function to download GPX files for recent rides\n",
    "def download_recent_rides():\n",
    "    WebDriverWait(driver, 10).until(EC.presence_of_element_located((By.TAG_NAME, \"table\")))\n",
    "    rides = driver.find_elements(By.XPATH, \"//table/tbody/tr[td[contains(text(), 'Ride')]]\")\n",
    "    for i, ride in enumerate(rides):\n",
    "        if i >= MAX_RIDES:\n",
    "            break\n",
    "        # Logic to open each ride and click the 'Export GPX' option\n",
    "        # This will depend on the specific structure of the Strava site\n",
    "\n",
    "# Log in and download rides\n",
    "strava_login()\n",
    "driver.get(STRAVA_TRAINING_URL)\n",
    "download_recent_rides()\n",
    "\n",
    "# Close the driver\n",
    "driver.quit()\n"
   ]
  }
 ],
 "metadata": {
  "kernelspec": {
   "display_name": "py39tf",
   "language": "python",
   "name": "python3"
  },
  "language_info": {
   "name": "python",
   "version": "3.9.16"
  }
 },
 "nbformat": 4,
 "nbformat_minor": 2
}
